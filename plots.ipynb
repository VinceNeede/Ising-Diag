{
 "cells": [
  {
   "cell_type": "code",
   "execution_count": 5,
   "metadata": {},
   "outputs": [
    {
     "name": "stdout",
     "output_type": "stream",
     "text": [
      "(array([-21.6306998432344, -18.6359672411513, -18.6359672411513]), 0.996025179973269, 0.991139690362512, 0.99674032273216)\n"
     ]
    }
   ],
   "source": [
    "import subprocess\n",
    "import numpy as np\n",
    "import sys\n",
    "\n",
    "if sys.platform=='linux':\n",
    "    indir='./Linux_results/'\n",
    "else:\n",
    "    indir='.\\\\win_results\\\\'\n",
    "\n",
    "np.set_printoptions(precision=15)\n",
    "\n",
    "def Ising(ell: int, gfield: np.double, hfield:np.double, PBC: bool, parity: bool):\n",
    "    if parity:\n",
    "        if hfield!=0.:\n",
    "            print(\"WARNING: hfield has to be zero in order to implement the parity simmetry\")\n",
    "        fileout='Ising_Parity'\n",
    "    else:\n",
    "        fileout='Ising'\n",
    "        \n",
    "    f=open(\"chain.in\", \"w\")\n",
    "    f.write(\n",
    "f\"{ell}\t    ! Number of spins in the system\t\t(ell)\\n\\\n",
    "{gfield}\t! Transverse magnetic field strength\t(g)\\n\\\n",
    "{hfield}\t! Longitudinal magnetic field strength\t(h)\\n\\\n",
    ".{'true' if PBC else 'false'}.\t! Type of boundary conditions  \t\t(.true. -> PBC,        .false. -> OBC)\\n\\\n",
    ".true.\t! Type of diagonalization      \t\t(.true. -> Davidson,   .false. -> Lapack full diag) NOT IMPLEMENTED\\n\"\\\n",
    "        )\n",
    "    f.close()\n",
    "    p=subprocess.Popen(indir+fileout, shell=True, stdout=subprocess.PIPE)\n",
    "    out=p.communicate()[0].decode().replace('\\n','').split(sep=',')\n",
    "    out_ell=float(out.pop(0))\n",
    "    out_gfield=float(out.pop(0))\n",
    "    if parity:\n",
    "        E_p=np.array([np.double(out.pop(0)) for _ in range(3)],dtype=np.double)\n",
    "        E_m=np.array([np.double(out.pop(0)) for _ in range(3)],dtype=np.double)\n",
    "        mag=abs(np.double(out.pop(0)))\n",
    "        return E_p, E_m, mag        \n",
    "    E=np.array([np.double(out.pop(0)) for _ in range(3)])\n",
    "    broken_mag=np.abs(np.double(out.pop(0)))\n",
    "    if PBC:\n",
    "        long_mag=np.array([np.double(out.pop(0)) for _ in range(ell)])\n",
    "        tran_mag=np.array([np.double(out.pop(0)) for _ in range(ell)])\n",
    "    else:\n",
    "        long_mag=np.double(out.pop(0))\n",
    "        tran_mag=np.double(out.pop(0))\n",
    "    return E, broken_mag, long_mag, tran_mag\n",
    "\n",
    "\"\"\" def Ising_Parity(ell: int, gfield: float, PBC: bool):\n",
    "    f=open(\"chain.in\", \"w\")\n",
    "    f.write(\n",
    "f\"{ell}\t    ! Number of spins in the system\t\t(ell)\\n\\\n",
    "{gfield}d0\t! Transverse magnetic field strength\t(g)\\n\\\n",
    "0.d0\t! Longitudinal magnetic field strength\t(h)\\n\\\n",
    ".{'true' if PBC else 'false'}.\t! Type of boundary conditions  \t\t(.true. -> PBC,        .false. -> OBC)\\n\\\n",
    ".true.\t! Type of diagonalization      \t\t(.true. -> Davidson,   .false. -> Lapack full diag) NOT IMPLEMENTED\\n\"\\\n",
    "        )\n",
    "    f.close()\n",
    "    p=subprocess.Popen(indir+\"Ising_Parity\", shell=True, stdout=subprocess.PIPE)\n",
    "    out=p.communicate()[0].decode().replace('\\n','').split(sep=',')\n",
    "    out_ell=float(out.pop(0))\n",
    "    out_gfield=float(out.pop(0))\n",
    "    E_p=np.array([float(out.pop(0)) for _ in range(3)])\n",
    "    E_m=np.array([float(out.pop(0)) for _ in range(3)])\n",
    "    mag=abs(float(out.pop(0)))\n",
    " \"\"\"\n",
    "\n",
    "if __name__=='__main__':\n",
    "    print(Ising(15,0.2, 0.5, False, parity=False))\n",
    "\n",
    "\n",
    "\n",
    "\n",
    "\n",
    "\n",
    "\n",
    "import os\n",
    "def automatic_sampler (Ls, gfields, hfields, PBC: bool, parity:bool):\n",
    "    #Idea: Ls, gfields, hfields can also be a single number, rather than an one-dimensional array. In that case, that variable is fixed.\n",
    "    \n",
    "    OUTPUTFILE=\"computed_stuff.out\"\n",
    "    if os.path.isfile(OUTPUTFILE):\n",
    "        fout=open(OUTPUTFILE,\"a\")\n",
    "    else:\n",
    "        fout=open(OUTPUTFILE,\"w\")\n",
    "        fout.write(\"L,g,h,E_ground,long_mag,trans_mag\\n\") #Qui ho deciso di mettere solo queste variabili e solo in questo ordine, poi giustamente se tu vuoi cambiarlo o se vuoi aggiungere altre energie oltre a quella di ground ne parliamo e possiamo modificare questa funzione di prova\n",
    "    \n",
    "    for L in Ls:\n",
    "        for gfield in gfields:\n",
    "            for hfield in hfields:\n",
    "                Es, broken_mag, long_mag, trans_mag=Ising(L, gfield, hfield, PBC, parity)\n",
    "                E_ground=Es[0]\n",
    "                \n",
    "                newrow= f\"{L},{gfield},{hfield},{E_ground},{long_mag},{trans_mag}\\n\"\n",
    "                fout.write(newrow)\n",
    "    \n",
    "\n",
    "    fout.close()\n",
    "    return 0"
   ]
  },
  {
   "cell_type": "code",
   "execution_count": 10,
   "metadata": {},
   "outputs": [
    {
     "data": {
      "text/plain": [
       "0"
      ]
     },
     "execution_count": 10,
     "metadata": {},
     "output_type": "execute_result"
    }
   ],
   "source": [
    "Ls=[15]\n",
    "gfields=np.linspace(0.05,0.95,10)\n",
    "hfields=np.linspace(-0.01,+0.01,20)\n",
    "\n",
    "automatic_sampler(Ls,gfields,hfields,False,False)"
   ]
  },
  {
   "cell_type": "code",
   "execution_count": null,
   "metadata": {},
   "outputs": [],
   "source": []
  }
 ],
 "metadata": {
  "kernelspec": {
   "display_name": "Python 3",
   "language": "python",
   "name": "python3"
  },
  "language_info": {
   "codemirror_mode": {
    "name": "ipython",
    "version": 3
   },
   "file_extension": ".py",
   "mimetype": "text/x-python",
   "name": "python",
   "nbconvert_exporter": "python",
   "pygments_lexer": "ipython3",
   "version": "3.10.6"
  },
  "orig_nbformat": 4
 },
 "nbformat": 4,
 "nbformat_minor": 2
}
